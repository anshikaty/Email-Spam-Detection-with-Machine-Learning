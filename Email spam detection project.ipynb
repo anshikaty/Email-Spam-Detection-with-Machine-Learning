{
 "cells": [
  {
   "cell_type": "markdown",
   "id": "63cb60fd",
   "metadata": {},
   "source": [
    "# Project :- Email Spam Detection"
   ]
  },
  {
   "cell_type": "code",
   "execution_count": null,
   "id": "35a84de3",
   "metadata": {},
   "outputs": [],
   "source": [
    "import numpy as np\n",
    "import pandas as pd\n",
    "from sklearn.model_selection import train_test_split\n",
    "from sklearn.feature_extraction.text import TfidfVectorizer\n",
    "from sklearn.linear_model import LogisticRegression\n",
    "from sklearn.metrics import accuracy_score"
   ]
  },
  {
   "cell_type": "markdown",
   "id": "4b7d0641",
   "metadata": {},
   "source": [
    "# Dataset Description"
   ]
  },
  {
   "cell_type": "markdown",
   "id": "77eddf81",
   "metadata": {},
   "source": [
    "Message Feature:\n",
    "    Represents the textual content of the email, including the body of the message.\n",
    "Category Feature:\n",
    "    Indicates the classification or category assigned to each email."
   ]
  },
  {
   "cell_type": "code",
   "execution_count": 2,
   "id": "95377854",
   "metadata": {},
   "outputs": [
    {
     "data": {
      "text/html": [
       "<div>\n",
       "<style scoped>\n",
       "    .dataframe tbody tr th:only-of-type {\n",
       "        vertical-align: middle;\n",
       "    }\n",
       "\n",
       "    .dataframe tbody tr th {\n",
       "        vertical-align: top;\n",
       "    }\n",
       "\n",
       "    .dataframe thead th {\n",
       "        text-align: right;\n",
       "    }\n",
       "</style>\n",
       "<table border=\"1\" class=\"dataframe\">\n",
       "  <thead>\n",
       "    <tr style=\"text-align: right;\">\n",
       "      <th></th>\n",
       "      <th>Category</th>\n",
       "      <th>Message</th>\n",
       "    </tr>\n",
       "  </thead>\n",
       "  <tbody>\n",
       "    <tr>\n",
       "      <th>0</th>\n",
       "      <td>ham</td>\n",
       "      <td>Go until jurong point, crazy.. Available only ...</td>\n",
       "    </tr>\n",
       "    <tr>\n",
       "      <th>1</th>\n",
       "      <td>ham</td>\n",
       "      <td>Ok lar... Joking wif u oni...</td>\n",
       "    </tr>\n",
       "    <tr>\n",
       "      <th>2</th>\n",
       "      <td>spam</td>\n",
       "      <td>Free entry in 2 a wkly comp to win FA Cup fina...</td>\n",
       "    </tr>\n",
       "    <tr>\n",
       "      <th>3</th>\n",
       "      <td>ham</td>\n",
       "      <td>U dun say so early hor... U c already then say...</td>\n",
       "    </tr>\n",
       "    <tr>\n",
       "      <th>4</th>\n",
       "      <td>ham</td>\n",
       "      <td>Nah I don't think he goes to usf, he lives aro...</td>\n",
       "    </tr>\n",
       "    <tr>\n",
       "      <th>...</th>\n",
       "      <td>...</td>\n",
       "      <td>...</td>\n",
       "    </tr>\n",
       "    <tr>\n",
       "      <th>5567</th>\n",
       "      <td>spam</td>\n",
       "      <td>This is the 2nd time we have tried 2 contact u...</td>\n",
       "    </tr>\n",
       "    <tr>\n",
       "      <th>5568</th>\n",
       "      <td>ham</td>\n",
       "      <td>Will ü b going to esplanade fr home?</td>\n",
       "    </tr>\n",
       "    <tr>\n",
       "      <th>5569</th>\n",
       "      <td>ham</td>\n",
       "      <td>Pity, * was in mood for that. So...any other s...</td>\n",
       "    </tr>\n",
       "    <tr>\n",
       "      <th>5570</th>\n",
       "      <td>ham</td>\n",
       "      <td>The guy did some bitching but I acted like i'd...</td>\n",
       "    </tr>\n",
       "    <tr>\n",
       "      <th>5571</th>\n",
       "      <td>ham</td>\n",
       "      <td>Rofl. Its true to its name</td>\n",
       "    </tr>\n",
       "  </tbody>\n",
       "</table>\n",
       "<p>5572 rows × 2 columns</p>\n",
       "</div>"
      ],
      "text/plain": [
       "     Category                                            Message\n",
       "0         ham  Go until jurong point, crazy.. Available only ...\n",
       "1         ham                      Ok lar... Joking wif u oni...\n",
       "2        spam  Free entry in 2 a wkly comp to win FA Cup fina...\n",
       "3         ham  U dun say so early hor... U c already then say...\n",
       "4         ham  Nah I don't think he goes to usf, he lives aro...\n",
       "...       ...                                                ...\n",
       "5567     spam  This is the 2nd time we have tried 2 contact u...\n",
       "5568      ham               Will ü b going to esplanade fr home?\n",
       "5569      ham  Pity, * was in mood for that. So...any other s...\n",
       "5570      ham  The guy did some bitching but I acted like i'd...\n",
       "5571      ham                         Rofl. Its true to its name\n",
       "\n",
       "[5572 rows x 2 columns]"
      ]
     },
     "execution_count": 2,
     "metadata": {},
     "output_type": "execute_result"
    }
   ],
   "source": [
    "data=pd.read_csv('mail1.csv')\n",
    "data"
   ]
  },
  {
   "cell_type": "code",
   "execution_count": 3,
   "id": "a94ec87c",
   "metadata": {},
   "outputs": [
    {
     "data": {
      "text/plain": [
       "5572"
      ]
     },
     "execution_count": 3,
     "metadata": {},
     "output_type": "execute_result"
    }
   ],
   "source": [
    "len(data.index)"
   ]
  },
  {
   "cell_type": "code",
   "execution_count": 4,
   "id": "26ece7ec",
   "metadata": {},
   "outputs": [
    {
     "name": "stdout",
     "output_type": "stream",
     "text": [
      "<class 'pandas.core.frame.DataFrame'>\n",
      "RangeIndex: 5572 entries, 0 to 5571\n",
      "Data columns (total 2 columns):\n",
      " #   Column    Non-Null Count  Dtype \n",
      "---  ------    --------------  ----- \n",
      " 0   Category  5572 non-null   object\n",
      " 1   Message   5572 non-null   object\n",
      "dtypes: object(2)\n",
      "memory usage: 87.2+ KB\n"
     ]
    }
   ],
   "source": [
    "data.info()"
   ]
  },
  {
   "cell_type": "code",
   "execution_count": 5,
   "id": "9c91cac4",
   "metadata": {},
   "outputs": [],
   "source": [
    "data.loc[data[\"Category\"]=='spam','Category']=0\n",
    "data.loc[data[\"Category\"]=='ham','Category']=1"
   ]
  },
  {
   "cell_type": "code",
   "execution_count": 6,
   "id": "ea9ddd78",
   "metadata": {},
   "outputs": [],
   "source": [
    "x=data[\"Message\"]\n",
    "y=data[\"Category\"]"
   ]
  },
  {
   "cell_type": "code",
   "execution_count": 7,
   "id": "b7b76482",
   "metadata": {},
   "outputs": [
    {
     "data": {
      "text/plain": [
       "0       Go until jurong point, crazy.. Available only ...\n",
       "1                           Ok lar... Joking wif u oni...\n",
       "2       Free entry in 2 a wkly comp to win FA Cup fina...\n",
       "3       U dun say so early hor... U c already then say...\n",
       "4       Nah I don't think he goes to usf, he lives aro...\n",
       "                              ...                        \n",
       "5567    This is the 2nd time we have tried 2 contact u...\n",
       "5568                 Will ü b going to esplanade fr home?\n",
       "5569    Pity, * was in mood for that. So...any other s...\n",
       "5570    The guy did some bitching but I acted like i'd...\n",
       "5571                           Rofl. Its true to its name\n",
       "Name: Message, Length: 5572, dtype: object"
      ]
     },
     "execution_count": 7,
     "metadata": {},
     "output_type": "execute_result"
    }
   ],
   "source": [
    "x"
   ]
  },
  {
   "cell_type": "code",
   "execution_count": 8,
   "id": "0cff19b1",
   "metadata": {},
   "outputs": [
    {
     "data": {
      "text/plain": [
       "0       1\n",
       "1       1\n",
       "2       0\n",
       "3       1\n",
       "4       1\n",
       "       ..\n",
       "5567    0\n",
       "5568    1\n",
       "5569    1\n",
       "5570    1\n",
       "5571    1\n",
       "Name: Category, Length: 5572, dtype: object"
      ]
     },
     "execution_count": 8,
     "metadata": {},
     "output_type": "execute_result"
    }
   ],
   "source": [
    "y"
   ]
  },
  {
   "cell_type": "markdown",
   "id": "3dc74d05",
   "metadata": {},
   "source": [
    "# TRAINING AND TESTING"
   ]
  },
  {
   "cell_type": "code",
   "execution_count": 9,
   "id": "626baf9a",
   "metadata": {},
   "outputs": [],
   "source": [
    "x_train,x_test,y_train,y_test=train_test_split(x,y,test_size=0.3,random_state=4)"
   ]
  },
  {
   "cell_type": "code",
   "execution_count": 10,
   "id": "37161d6a",
   "metadata": {},
   "outputs": [
    {
     "data": {
      "text/plain": [
       "1256    Just wait till end of march when el nino gets ...\n",
       "4163    How's it going? Got any exciting karaoke type ...\n",
       "1994                   Eh den sat u book e kb liao huh...\n",
       "3587    I am hot n horny and willing I live local to y...\n",
       "1598    URGENT! Your Mobile number has been awarded wi...\n",
       "                              ...                        \n",
       "3671                        Ok thanx... Take care then...\n",
       "709     To review and KEEP the fantastic Nokia N-Gage ...\n",
       "2487           I dont thnk its a wrong calling between us\n",
       "174     Bloody hell, cant believe you forgot my surnam...\n",
       "1146    Thank you, winner notified by sms. Good Luck! ...\n",
       "Name: Message, Length: 3900, dtype: object"
      ]
     },
     "execution_count": 10,
     "metadata": {},
     "output_type": "execute_result"
    }
   ],
   "source": [
    "x_train"
   ]
  },
  {
   "cell_type": "code",
   "execution_count": 11,
   "id": "5a007f9d",
   "metadata": {},
   "outputs": [
    {
     "data": {
      "text/plain": [
       "4004    somewhere out there beneath the pale moon ligh...\n",
       "2276           Is that on the telly? No its Brdget Jones!\n",
       "4498                                                   Ok\n",
       "3755    Bloomberg -Message center +447797706009 Why wa...\n",
       "111              What is the plural of the noun research?\n",
       "                              ...                        \n",
       "231     Get down in gandhipuram and walk to cross cut ...\n",
       "2038                             Oh sorry please its over\n",
       "3309    But i'm surprised she still can guess right lo...\n",
       "3934                               Playin space poker, u?\n",
       "3156                                                Ok...\n",
       "Name: Message, Length: 1672, dtype: object"
      ]
     },
     "execution_count": 11,
     "metadata": {},
     "output_type": "execute_result"
    }
   ],
   "source": [
    "x_test"
   ]
  },
  {
   "cell_type": "code",
   "execution_count": 12,
   "id": "0b48b596",
   "metadata": {},
   "outputs": [
    {
     "data": {
      "text/plain": [
       "1256    1\n",
       "4163    1\n",
       "1994    1\n",
       "3587    0\n",
       "1598    0\n",
       "       ..\n",
       "3671    1\n",
       "709     0\n",
       "2487    1\n",
       "174     1\n",
       "1146    0\n",
       "Name: Category, Length: 3900, dtype: object"
      ]
     },
     "execution_count": 12,
     "metadata": {},
     "output_type": "execute_result"
    }
   ],
   "source": [
    "y_train"
   ]
  },
  {
   "cell_type": "code",
   "execution_count": 13,
   "id": "ac75fc94",
   "metadata": {},
   "outputs": [
    {
     "data": {
      "text/plain": [
       "4004    1\n",
       "2276    1\n",
       "4498    1\n",
       "3755    0\n",
       "111     1\n",
       "       ..\n",
       "231     1\n",
       "2038    1\n",
       "3309    1\n",
       "3934    1\n",
       "3156    1\n",
       "Name: Category, Length: 1672, dtype: object"
      ]
     },
     "execution_count": 13,
     "metadata": {},
     "output_type": "execute_result"
    }
   ],
   "source": [
    "y_test"
   ]
  },
  {
   "cell_type": "code",
   "execution_count": 14,
   "id": "09febe0a",
   "metadata": {},
   "outputs": [],
   "source": [
    "# transform string data into numerical value by feature \n",
    "feature_extraction=TfidfVectorizer(min_df = 1, stop_words='english')\n",
    "x_train_features=feature_extraction.fit_transform(x_train)\n",
    "x_test_features=feature_extraction.transform(x_test)\n",
    "y_train=y_train.astype('int')\n",
    "y_test=y_test.astype('int')"
   ]
  },
  {
   "cell_type": "code",
   "execution_count": 15,
   "id": "4da15ca7",
   "metadata": {},
   "outputs": [
    {
     "name": "stdout",
     "output_type": "stream",
     "text": [
      "  (0, 4410)\t0.24909367293271087\n",
      "  (0, 2786)\t0.3532549360877084\n",
      "  (0, 4304)\t0.4348669067683049\n",
      "  (0, 2288)\t0.4348669067683049\n",
      "  (0, 3908)\t0.3585975959370433\n",
      "  (0, 2312)\t0.3028887592062596\n",
      "  (0, 6201)\t0.3263476432164432\n",
      "  (0, 6608)\t0.2677403965759536\n",
      "  (0, 3454)\t0.19084888936848213\n",
      "  (1, 3613)\t0.2832563402788741\n",
      "  (1, 2508)\t0.25332700045998413\n",
      "  (1, 2379)\t0.26279544760276824\n",
      "  (1, 2620)\t0.30679987315481655\n",
      "  (1, 4698)\t0.23638965777502066\n",
      "  (1, 1971)\t0.34350149001336333\n",
      "  (1, 4694)\t0.29949706446131497\n",
      "  (1, 745)\t0.3157377886437559\n",
      "  (1, 6387)\t0.2752185650145473\n",
      "  (1, 3475)\t0.3272607658309224\n",
      "  (1, 2409)\t0.29332262768846595\n",
      "  (1, 2855)\t0.16951229995043515\n",
      "  (1, 2832)\t0.17755007521476196\n",
      "  (2, 3154)\t0.3830132347130307\n",
      "  (2, 3658)\t0.33936075831915996\n",
      "  (2, 3483)\t0.432440133554435\n",
      "  :\t:\n",
      "  (3897, 2162)\t0.3606334209782012\n",
      "  (3898, 1169)\t0.3623576524486404\n",
      "  (3898, 1675)\t0.3623576524486404\n",
      "  (3898, 5958)\t0.3623576524486404\n",
      "  (3898, 5705)\t0.34522541034807125\n",
      "  (3898, 3030)\t0.3159376490309816\n",
      "  (3898, 1174)\t0.2772213345095655\n",
      "  (3898, 4139)\t0.29032640622628775\n",
      "  (3898, 1253)\t0.32364133792722427\n",
      "  (3898, 2634)\t0.25084875024197084\n",
      "  (3898, 3212)\t0.24142019703764436\n",
      "  (3899, 60)\t0.33499378879469527\n",
      "  (3899, 625)\t0.33499378879469527\n",
      "  (3899, 3914)\t0.33499378879469527\n",
      "  (3899, 4344)\t0.33499378879469527\n",
      "  (3899, 2724)\t0.2992011822302884\n",
      "  (3899, 5412)\t0.2618765165647276\n",
      "  (3899, 3814)\t0.2684020667196396\n",
      "  (3899, 6124)\t0.24132600509205418\n",
      "  (3899, 6755)\t0.2618765165647276\n",
      "  (3899, 5620)\t0.22432139300453563\n",
      "  (3899, 1906)\t0.219976641651181\n",
      "  (3899, 2841)\t0.1630952340339479\n",
      "  (3899, 5833)\t0.1880719098887865\n",
      "  (3899, 5127)\t0.1829695590344213\n"
     ]
    }
   ],
   "source": [
    "print(x_train_features)"
   ]
  },
  {
   "cell_type": "code",
   "execution_count": 16,
   "id": "2c071c84",
   "metadata": {},
   "outputs": [
    {
     "data": {
      "text/html": [
       "<style>#sk-container-id-1 {color: black;background-color: white;}#sk-container-id-1 pre{padding: 0;}#sk-container-id-1 div.sk-toggleable {background-color: white;}#sk-container-id-1 label.sk-toggleable__label {cursor: pointer;display: block;width: 100%;margin-bottom: 0;padding: 0.3em;box-sizing: border-box;text-align: center;}#sk-container-id-1 label.sk-toggleable__label-arrow:before {content: \"▸\";float: left;margin-right: 0.25em;color: #696969;}#sk-container-id-1 label.sk-toggleable__label-arrow:hover:before {color: black;}#sk-container-id-1 div.sk-estimator:hover label.sk-toggleable__label-arrow:before {color: black;}#sk-container-id-1 div.sk-toggleable__content {max-height: 0;max-width: 0;overflow: hidden;text-align: left;background-color: #f0f8ff;}#sk-container-id-1 div.sk-toggleable__content pre {margin: 0.2em;color: black;border-radius: 0.25em;background-color: #f0f8ff;}#sk-container-id-1 input.sk-toggleable__control:checked~div.sk-toggleable__content {max-height: 200px;max-width: 100%;overflow: auto;}#sk-container-id-1 input.sk-toggleable__control:checked~label.sk-toggleable__label-arrow:before {content: \"▾\";}#sk-container-id-1 div.sk-estimator input.sk-toggleable__control:checked~label.sk-toggleable__label {background-color: #d4ebff;}#sk-container-id-1 div.sk-label input.sk-toggleable__control:checked~label.sk-toggleable__label {background-color: #d4ebff;}#sk-container-id-1 input.sk-hidden--visually {border: 0;clip: rect(1px 1px 1px 1px);clip: rect(1px, 1px, 1px, 1px);height: 1px;margin: -1px;overflow: hidden;padding: 0;position: absolute;width: 1px;}#sk-container-id-1 div.sk-estimator {font-family: monospace;background-color: #f0f8ff;border: 1px dotted black;border-radius: 0.25em;box-sizing: border-box;margin-bottom: 0.5em;}#sk-container-id-1 div.sk-estimator:hover {background-color: #d4ebff;}#sk-container-id-1 div.sk-parallel-item::after {content: \"\";width: 100%;border-bottom: 1px solid gray;flex-grow: 1;}#sk-container-id-1 div.sk-label:hover label.sk-toggleable__label {background-color: #d4ebff;}#sk-container-id-1 div.sk-serial::before {content: \"\";position: absolute;border-left: 1px solid gray;box-sizing: border-box;top: 0;bottom: 0;left: 50%;z-index: 0;}#sk-container-id-1 div.sk-serial {display: flex;flex-direction: column;align-items: center;background-color: white;padding-right: 0.2em;padding-left: 0.2em;position: relative;}#sk-container-id-1 div.sk-item {position: relative;z-index: 1;}#sk-container-id-1 div.sk-parallel {display: flex;align-items: stretch;justify-content: center;background-color: white;position: relative;}#sk-container-id-1 div.sk-item::before, #sk-container-id-1 div.sk-parallel-item::before {content: \"\";position: absolute;border-left: 1px solid gray;box-sizing: border-box;top: 0;bottom: 0;left: 50%;z-index: -1;}#sk-container-id-1 div.sk-parallel-item {display: flex;flex-direction: column;z-index: 1;position: relative;background-color: white;}#sk-container-id-1 div.sk-parallel-item:first-child::after {align-self: flex-end;width: 50%;}#sk-container-id-1 div.sk-parallel-item:last-child::after {align-self: flex-start;width: 50%;}#sk-container-id-1 div.sk-parallel-item:only-child::after {width: 0;}#sk-container-id-1 div.sk-dashed-wrapped {border: 1px dashed gray;margin: 0 0.4em 0.5em 0.4em;box-sizing: border-box;padding-bottom: 0.4em;background-color: white;}#sk-container-id-1 div.sk-label label {font-family: monospace;font-weight: bold;display: inline-block;line-height: 1.2em;}#sk-container-id-1 div.sk-label-container {text-align: center;}#sk-container-id-1 div.sk-container {/* jupyter's `normalize.less` sets `[hidden] { display: none; }` but bootstrap.min.css set `[hidden] { display: none !important; }` so we also need the `!important` here to be able to override the default hidden behavior on the sphinx rendered scikit-learn.org. See: https://github.com/scikit-learn/scikit-learn/issues/21755 */display: inline-block !important;position: relative;}#sk-container-id-1 div.sk-text-repr-fallback {display: none;}</style><div id=\"sk-container-id-1\" class=\"sk-top-container\"><div class=\"sk-text-repr-fallback\"><pre>LogisticRegression()</pre><b>In a Jupyter environment, please rerun this cell to show the HTML representation or trust the notebook. <br />On GitHub, the HTML representation is unable to render, please try loading this page with nbviewer.org.</b></div><div class=\"sk-container\" hidden><div class=\"sk-item\"><div class=\"sk-estimator sk-toggleable\"><input class=\"sk-toggleable__control sk-hidden--visually\" id=\"sk-estimator-id-1\" type=\"checkbox\" checked><label for=\"sk-estimator-id-1\" class=\"sk-toggleable__label sk-toggleable__label-arrow\">LogisticRegression</label><div class=\"sk-toggleable__content\"><pre>LogisticRegression()</pre></div></div></div></div></div>"
      ],
      "text/plain": [
       "LogisticRegression()"
      ]
     },
     "execution_count": 16,
     "metadata": {},
     "output_type": "execute_result"
    }
   ],
   "source": [
    "model=LogisticRegression()\n",
    "model.fit(x_train_features,y_train)"
   ]
  },
  {
   "cell_type": "code",
   "execution_count": 17,
   "id": "f07c6799",
   "metadata": {},
   "outputs": [],
   "source": [
    "#predictions on training data\n",
    "prediction=model.predict(x_train_features)\n",
    "accuracy_score=accuracy_score(y_train,prediction)"
   ]
  },
  {
   "cell_type": "code",
   "execution_count": 21,
   "id": "acbc78cb",
   "metadata": {},
   "outputs": [
    {
     "name": "stdout",
     "output_type": "stream",
     "text": [
      "Accuracy on training data: 0.9669230769230769\n"
     ]
    }
   ],
   "source": [
    "print(f'Accuracy on training data:',accuracy_score)"
   ]
  },
  {
   "cell_type": "code",
   "execution_count": 22,
   "id": "736b2e91",
   "metadata": {},
   "outputs": [
    {
     "data": {
      "text/plain": [
       "array([1, 1, 1, ..., 1, 1, 1])"
      ]
     },
     "execution_count": 22,
     "metadata": {},
     "output_type": "execute_result"
    }
   ],
   "source": [
    "#predictions on testing data\n",
    "predictions_on_testing_data=model.predict(x_test_features)\n",
    "predictions_on_testing_data\n"
   ]
  },
  {
   "cell_type": "markdown",
   "id": "f265b42e",
   "metadata": {},
   "source": [
    "# testing the model"
   ]
  },
  {
   "cell_type": "code",
   "execution_count": 28,
   "id": "9588deb1",
   "metadata": {},
   "outputs": [
    {
     "name": "stdout",
     "output_type": "stream",
     "text": [
      "[1]\n",
      "Ham mail\n"
     ]
    }
   ],
   "source": [
    "input_mail=[\"Hello, my love. What are you doing? Did you get to that interview today? Are you you happy? Are you being a good boy? Do you think of me?Are you missing me ?\"]\n",
    "input_data_features=feature_extraction.transform(input_mail)\n",
    "prediction=model.predict(input_data_features)\n",
    "print(prediction)\n",
    "\n",
    "if(prediction[0]==1):\n",
    "    print(\"Ham mail\")\n",
    "else:\n",
    "    print(\"Spam mail\")"
   ]
  },
  {
   "cell_type": "code",
   "execution_count": null,
   "id": "b6755ad5",
   "metadata": {},
   "outputs": [],
   "source": []
  }
 ],
 "metadata": {
  "kernelspec": {
   "display_name": "Python 3 (ipykernel)",
   "language": "python",
   "name": "python3"
  },
  "language_info": {
   "codemirror_mode": {
    "name": "ipython",
    "version": 3
   },
   "file_extension": ".py",
   "mimetype": "text/x-python",
   "name": "python",
   "nbconvert_exporter": "python",
   "pygments_lexer": "ipython3",
   "version": "3.11.3"
  }
 },
 "nbformat": 4,
 "nbformat_minor": 5
}
